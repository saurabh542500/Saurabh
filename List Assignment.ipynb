{
 "cells": [
  {
   "cell_type": "code",
   "execution_count": 44,
   "id": "ab9f52b5-355e-4a07-84e5-2a510870b7ca",
   "metadata": {},
   "outputs": [
    {
     "name": "stdout",
     "output_type": "stream",
     "text": [
      "[2, 4, 6]\n",
      "[1, 3, 5]\n"
     ]
    }
   ],
   "source": [
    "# Q 1  Create 2 lists from a given list where \n",
    "# 1st list will contain all the odd numbers from the original list and\n",
    "# the 2nd one will contain all the even numbers\n",
    "l=[1,2,3,4,5,6]\n",
    "#[i for i in l if i%2==0]\n",
    "odd = []\n",
    "even=[] \n",
    "for i in l:\n",
    "    if i % 2==0:\n",
    "        odd.append(i)\n",
    "    else:\n",
    "        even.append(i)\n",
    "    \n",
    "print(odd)\n",
    "print(even)"
   ]
  },
  {
   "cell_type": "code",
   "execution_count": 66,
   "id": "1159edc8-a6e0-4e0a-971b-7af02b1dddd5",
   "metadata": {},
   "outputs": [
    {
     "name": "stdin",
     "output_type": "stream",
     "text": [
      "enter the number of elements 6\n",
      " 4\n",
      " 5\n",
      " 6\n",
      " 7\n",
      " 8\n",
      " 9\n"
     ]
    },
    {
     "name": "stdout",
     "output_type": "stream",
     "text": [
      "[4, 5, 6, 7, 8, 9]\n"
     ]
    }
   ],
   "source": [
    "# Q.2 How to take list as input from user\n",
    "\n",
    "l = []\n",
    "n = int(input(\"enter the number of elements\"))\n",
    "for i in range(0,n):\n",
    "    element=int(input())\n",
    "    l.append(element)\n",
    "print(l)"
   ]
  },
  {
   "cell_type": "code",
   "execution_count": 79,
   "id": "3a90ae2e-5240-4232-922b-6d57aa7a68c0",
   "metadata": {},
   "outputs": [
    {
     "name": "stdout",
     "output_type": "stream",
     "text": [
      "[1, 2, 3, 4, 5, 6, 7, 8]\n"
     ]
    }
   ],
   "source": [
    "#Q.3 Write a program to merge 2 list without using the + operator\n",
    "L1 = [1,2,3,4]\n",
    "L2 = [5,6,7,8]\n",
    "a = [y for x in[L1,L2] for  y in x]\n",
    "print(str(a))"
   ]
  },
  {
   "cell_type": "code",
   "execution_count": 1,
   "id": "ad27dff6-e65b-4862-a8df-6b03e6dd9d32",
   "metadata": {},
   "outputs": [
    {
     "name": "stdout",
     "output_type": "stream",
     "text": [
      "Original list: [1, 2, 3, 4, 5, 3]\n",
      "Modified list: [1, 2, 300, 4, 5, 300]\n"
     ]
    }
   ],
   "source": [
    "# Q.4 Write a program to replace an item with a different item if found in the list \n",
    "L = [1,2,3,4,5,3]\n",
    "# replace 3 with 300\n",
    "\n",
    "L = [1, 2, 3, 4, 5, 3]\n",
    "print(\"Original list:\", L)\n",
    "old_value = 3\n",
    "new_value = 300\n",
    "for i in range(len(L)):\n",
    "    if L[i] == old_value:\n",
    "        L[i] = new_value\n",
    "print(\"Modified list:\", L)\n"
   ]
  },
  {
   "cell_type": "code",
   "execution_count": 89,
   "id": "e5166d02-c2f5-460c-834f-ff5f528508e8",
   "metadata": {},
   "outputs": [],
   "source": [
    "# Q.5 Write a program that can convert a 2D list to 1D list\n",
    "\n",
    "\n",
    "two_dim_list = [[1, 2, 3], [4, 5], [6, 7, 8, 9]]\n",
    "one_dim_list = []\n",
    "for sublist in two_dim_list:\n",
    "    one_dim_list.extend(sublist)\n",
    "print(\"Original 2D list:\", two_dim_list)\n",
    "print(\"Converted 1D list:\", one_dim_list)\n"
   ]
  },
  {
   "cell_type": "code",
   "execution_count": 91,
   "id": "ff2d8219-c457-4af7-b8d9-17b0d2793fc7",
   "metadata": {},
   "outputs": [],
   "source": [
    "# Q.6 Write a program to remove duplicate items from a list\n",
    "\n",
    "L = [1,2,1,2,3,4,5,3,4]\n",
    "L = [1, 2, 1, 2, 3, 4, 5, 3, 4]\n",
    "print(\"Original list:\", L)\n",
    "unique_list = list(set(L))\n",
    "print(\"List after removing duplicates:\", unique_list)\n"
   ]
  },
  {
   "cell_type": "code",
   "execution_count": 93,
   "id": "f5cef614-8e04-460a-9ace-8a17950e7e42",
   "metadata": {},
   "outputs": [],
   "source": [
    "# Q.7  Write a program to check if a list is in ascending order or not\n",
    "\n",
    "test_list = [1, 4, 5, 8, 10]\n",
    "print (\"Original list : \" + str(test_list))\n",
    "flag = 0\n",
    "i = 1\n",
    "while i < len(test_list):\n",
    "    if(test_list[i] < test_list[i - 1]):\n",
    "        flag = 1\n",
    "    i += 1\n",
    "if (not flag) :\n",
    "    print (\"Yes, List is sorted.\")\n",
    "else :\n",
    "    print (\"No, List is not sorted.\")"
   ]
  },
  {
   "cell_type": "code",
   "execution_count": null,
   "id": "8bd9f5d3-a1f3-4752-af49-4aab18025998",
   "metadata": {},
   "outputs": [],
   "source": []
  }
 ],
 "metadata": {
  "kernelspec": {
   "display_name": "Python 3 (ipykernel)",
   "language": "python",
   "name": "python3"
  },
  "language_info": {
   "codemirror_mode": {
    "name": "ipython",
    "version": 3
   },
   "file_extension": ".py",
   "mimetype": "text/x-python",
   "name": "python",
   "nbconvert_exporter": "python",
   "pygments_lexer": "ipython3",
   "version": "3.11.7"
  }
 },
 "nbformat": 4,
 "nbformat_minor": 5
}
