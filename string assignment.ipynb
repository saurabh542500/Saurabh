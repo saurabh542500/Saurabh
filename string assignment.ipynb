{
 "cells": [
  {
   "cell_type": "code",
   "execution_count": 1,
   "id": "22807b9a-3367-4267-ba3a-660e82253a4d",
   "metadata": {},
   "outputs": [],
   "source": [
    "# 1. find the length of given string (given by the user) without using len() funtion"
   ]
  },
  {
   "cell_type": "code",
   "execution_count": 3,
   "id": "ab403c49-7997-43d7-b03a-3daccf339e57",
   "metadata": {},
   "outputs": [
    {
     "name": "stdin",
     "output_type": "stream",
     "text": [
      "enter the string saurabh\n"
     ]
    },
    {
     "name": "stdout",
     "output_type": "stream",
     "text": [
      "lenght of string is  7\n"
     ]
    }
   ],
   "source": [
    "str = input(\"enter the string\")\n",
    "count = 0\n",
    "for i in str:\n",
    "    count += 1\n",
    "print(\"lenght of string is \",count)    "
   ]
  },
  {
   "cell_type": "code",
   "execution_count": 10,
   "id": "702be4b2-c244-4eae-a499-f58af10c2f3f",
   "metadata": {},
   "outputs": [
    {
     "name": "stdin",
     "output_type": "stream",
     "text": [
      "Enter the mail_Id tayadesaurabh5425@gmail.com\n"
     ]
    },
    {
     "name": "stdout",
     "output_type": "stream",
     "text": [
      "tayadesaurabh5425\n"
     ]
    }
   ],
   "source": [
    "# 2. Extract userid from given mail I'd. \n",
    "#eg if the mail is chetan21jagtap@gmail.com .\n",
    "#them user name soud be \"chetan21jagtap\"\n",
    "\n",
    "\n",
    "str = input(\"Enter the mail_Id\")\n",
    "poss =str.index(\"@\")\n",
    "print(str[0:poss])"
   ]
  },
  {
   "cell_type": "code",
   "execution_count": 79,
   "id": "571f09e4-2a18-4ca4-8e5d-32754c6d06d7",
   "metadata": {},
   "outputs": [
    {
     "name": "stdin",
     "output_type": "stream",
     "text": [
      "Enter string : saurabh\n",
      "what would you like to search : a\n"
     ]
    },
    {
     "name": "stdout",
     "output_type": "stream",
     "text": [
      "Frequency of your char is  2\n"
     ]
    }
   ],
   "source": [
    "# 3. count the frequency of particular character in provided string\n",
    "# eg \"hello how are you\" is the string\n",
    "# the frequency of \"h: in this starting is 2\n",
    "# eiter using coun funtion\n",
    "\n",
    "inp =input(\"Enter string :\")\n",
    "term=input(\"what would you like to search :\")\n",
    "counter =0\n",
    "for i in inp:\n",
    "    if i == term:\n",
    "        counter +=1\n",
    "print(\"Frequency of your char is \",counter)"
   ]
  },
  {
   "cell_type": "code",
   "execution_count": 2,
   "id": "3eb291f8-6771-4bb4-9def-91a189268966",
   "metadata": {},
   "outputs": [
    {
     "name": "stdin",
     "output_type": "stream",
     "text": [
      "enter a string : saurabh\n",
      "what would you like to delet s\n"
     ]
    },
    {
     "name": "stdout",
     "output_type": "stream",
     "text": [
      "\n",
      "a\n",
      "au\n",
      "aur\n",
      "aura\n",
      "aurab\n",
      "aurabh\n"
     ]
    }
   ],
   "source": [
    "# 4.write a program which can remove a particular character from string\n",
    "\n",
    "inp=input(\"enter a string :\")\n",
    "term=input(\"what would you like to delet\")\n",
    "result=\"\"\n",
    "for i in inp:\n",
    "    if i != term:\n",
    "        result=result+i\n",
    "    print(result)"
   ]
  },
  {
   "cell_type": "code",
   "execution_count": 59,
   "id": "ee3b3ba0-9d7e-45f9-a7f8-15090590d578",
   "metadata": {},
   "outputs": [
    {
     "name": "stdout",
     "output_type": "stream",
     "text": [
      "abba is palindrome\n",
      "malaylam is palindrome\n"
     ]
    }
   ],
   "source": [
    "# 5. Write a program that can check whether a given string is palindrome or not.\n",
    "# abba\n",
    "# malayalam\n",
    "\n",
    "str ='abba'\n",
    "#str1 ='malaylam'\n",
    "if (str==str[::-1]):\n",
    "    print(\"abba is palindrome\")\n",
    "else:\n",
    "    print(\"abba is not palindrome\")\n",
    "str1 ='malayalam'\n",
    "if (str1==str1[::-1]):\n",
    "    print(\"malaylam is palindrome\")\n",
    "else:\n",
    "    print(\"malaylam is not palindrome\")"
   ]
  },
  {
   "cell_type": "code",
   "execution_count": 1,
   "id": "0ce2ee13-e73f-4630-b53a-a54d4a79b5ba",
   "metadata": {},
   "outputs": [
    {
     "name": "stdin",
     "output_type": "stream",
     "text": [
      "Enter the string saurabh\n"
     ]
    },
    {
     "name": "stdout",
     "output_type": "stream",
     "text": [
      "The number of words : 7\n"
     ]
    }
   ],
   "source": [
    "# 6.Write a program to count the number of words in a string without split()\n",
    "\n",
    "str = input(\"Enter the string\")\n",
    "count = 0\n",
    "for i in str:\n",
    "    count += 1\n",
    "print(\"The number of words :\",count)"
   ]
  },
  {
   "cell_type": "code",
   "execution_count": null,
   "id": "73db69e4-8ea2-49b8-8bc8-cb8110b6ff36",
   "metadata": {},
   "outputs": [],
   "source": [
    "# 7. Write a python program to convert a string to title case without using the title()\n",
    "\n",
    "\n",
    "def custom_title_case(s):\n",
    "    words = s.split()\n",
    "    capitalized_words = []\n",
    "    for word in words:\n",
    "        if len(word) > 0: \n",
    "            capitalized_word = word[0].upper() + word[1:].lower()\n",
    "            capitalized_words.append(capitalized_word)\n",
    "    title_case_string = ' '.join(capitalized_words)    \n",
    "    return title_case_string\n",
    "input_string = \"heLLo woRLd  how aRE yoU\"\n",
    "print(\"Original string:\", input_string)\n",
    "print(\"Title case string:\", custom_title_case(input_string))\n"
   ]
  }
 ],
 "metadata": {
  "kernelspec": {
   "display_name": "Python 3 (ipykernel)",
   "language": "python",
   "name": "python3"
  },
  "language_info": {
   "codemirror_mode": {
    "name": "ipython",
    "version": 3
   },
   "file_extension": ".py",
   "mimetype": "text/x-python",
   "name": "python",
   "nbconvert_exporter": "python",
   "pygments_lexer": "ipython3",
   "version": "3.11.7"
  }
 },
 "nbformat": 4,
 "nbformat_minor": 5
}
